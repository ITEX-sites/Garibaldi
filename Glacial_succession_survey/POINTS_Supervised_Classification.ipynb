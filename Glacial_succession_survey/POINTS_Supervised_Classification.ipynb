{
  "nbformat": 4,
  "nbformat_minor": 0,
  "metadata": {
    "colab": {
      "provenance": [],
      "include_colab_link": true
    },
    "kernelspec": {
      "name": "python3",
      "display_name": "Python 3"
    },
    "language_info": {
      "name": "python"
    }
  },
  "cells": [
    {
      "cell_type": "markdown",
      "metadata": {
        "id": "view-in-github",
        "colab_type": "text"
      },
      "source": [
        "<a href=\"https://colab.research.google.com/github/ITEX-sites/Garibaldi/blob/main/Glacial_succession_survey/POINTS_Supervised_Classification.ipynb\" target=\"_parent\"><img src=\"https://colab.research.google.com/assets/colab-badge.svg\" alt=\"Open In Colab\"/></a>"
      ]
    },
    {
      "cell_type": "code",
      "source": [
        "\n",
        "pip install rasterio scikit-learn gdal earthpy\n"
      ],
      "metadata": {
        "colab": {
          "base_uri": "https://localhost:8080/"
        },
        "id": "sdEpVndZBTXa",
        "outputId": "133a9fec-ee7f-40fc-e577-e47139997d9a"
      },
      "execution_count": null,
      "outputs": [
        {
          "output_type": "stream",
          "name": "stdout",
          "text": [
            "Requirement already satisfied: rasterio in /usr/local/lib/python3.10/dist-packages (1.3.9)\n",
            "Requirement already satisfied: scikit-learn in /usr/local/lib/python3.10/dist-packages (1.2.2)\n",
            "Requirement already satisfied: gdal in /usr/local/lib/python3.10/dist-packages (3.4.3)\n",
            "Requirement already satisfied: earthpy in /usr/local/lib/python3.10/dist-packages (0.9.4)\n",
            "Requirement already satisfied: affine in /usr/local/lib/python3.10/dist-packages (from rasterio) (2.4.0)\n",
            "Requirement already satisfied: attrs in /usr/local/lib/python3.10/dist-packages (from rasterio) (23.1.0)\n",
            "Requirement already satisfied: certifi in /usr/local/lib/python3.10/dist-packages (from rasterio) (2023.7.22)\n",
            "Requirement already satisfied: click>=4.0 in /usr/local/lib/python3.10/dist-packages (from rasterio) (8.1.7)\n",
            "Requirement already satisfied: cligj>=0.5 in /usr/local/lib/python3.10/dist-packages (from rasterio) (0.7.2)\n",
            "Requirement already satisfied: numpy in /usr/local/lib/python3.10/dist-packages (from rasterio) (1.23.5)\n",
            "Requirement already satisfied: snuggs>=1.4.1 in /usr/local/lib/python3.10/dist-packages (from rasterio) (1.4.7)\n",
            "Requirement already satisfied: click-plugins in /usr/local/lib/python3.10/dist-packages (from rasterio) (1.1.1)\n",
            "Requirement already satisfied: setuptools in /usr/local/lib/python3.10/dist-packages (from rasterio) (67.7.2)\n",
            "Requirement already satisfied: scipy>=1.3.2 in /usr/local/lib/python3.10/dist-packages (from scikit-learn) (1.11.3)\n",
            "Requirement already satisfied: joblib>=1.1.1 in /usr/local/lib/python3.10/dist-packages (from scikit-learn) (1.3.2)\n",
            "Requirement already satisfied: threadpoolctl>=2.0.0 in /usr/local/lib/python3.10/dist-packages (from scikit-learn) (3.2.0)\n",
            "Requirement already satisfied: geopandas in /usr/local/lib/python3.10/dist-packages (from earthpy) (0.13.2)\n",
            "Requirement already satisfied: matplotlib>=2.0.0 in /usr/local/lib/python3.10/dist-packages (from earthpy) (3.7.1)\n",
            "Requirement already satisfied: scikit-image in /usr/local/lib/python3.10/dist-packages (from earthpy) (0.19.3)\n",
            "Requirement already satisfied: requests in /usr/local/lib/python3.10/dist-packages (from earthpy) (2.31.0)\n",
            "Requirement already satisfied: contourpy>=1.0.1 in /usr/local/lib/python3.10/dist-packages (from matplotlib>=2.0.0->earthpy) (1.2.0)\n",
            "Requirement already satisfied: cycler>=0.10 in /usr/local/lib/python3.10/dist-packages (from matplotlib>=2.0.0->earthpy) (0.12.1)\n",
            "Requirement already satisfied: fonttools>=4.22.0 in /usr/local/lib/python3.10/dist-packages (from matplotlib>=2.0.0->earthpy) (4.44.3)\n",
            "Requirement already satisfied: kiwisolver>=1.0.1 in /usr/local/lib/python3.10/dist-packages (from matplotlib>=2.0.0->earthpy) (1.4.5)\n",
            "Requirement already satisfied: packaging>=20.0 in /usr/local/lib/python3.10/dist-packages (from matplotlib>=2.0.0->earthpy) (23.2)\n",
            "Requirement already satisfied: pillow>=6.2.0 in /usr/local/lib/python3.10/dist-packages (from matplotlib>=2.0.0->earthpy) (9.4.0)\n",
            "Requirement already satisfied: pyparsing>=2.3.1 in /usr/local/lib/python3.10/dist-packages (from matplotlib>=2.0.0->earthpy) (3.1.1)\n",
            "Requirement already satisfied: python-dateutil>=2.7 in /usr/local/lib/python3.10/dist-packages (from matplotlib>=2.0.0->earthpy) (2.8.2)\n",
            "Requirement already satisfied: fiona>=1.8.19 in /usr/local/lib/python3.10/dist-packages (from geopandas->earthpy) (1.9.5)\n",
            "Requirement already satisfied: pandas>=1.1.0 in /usr/local/lib/python3.10/dist-packages (from geopandas->earthpy) (1.5.3)\n",
            "Requirement already satisfied: pyproj>=3.0.1 in /usr/local/lib/python3.10/dist-packages (from geopandas->earthpy) (3.6.1)\n",
            "Requirement already satisfied: shapely>=1.7.1 in /usr/local/lib/python3.10/dist-packages (from geopandas->earthpy) (2.0.2)\n",
            "Requirement already satisfied: charset-normalizer<4,>=2 in /usr/local/lib/python3.10/dist-packages (from requests->earthpy) (3.3.2)\n",
            "Requirement already satisfied: idna<4,>=2.5 in /usr/local/lib/python3.10/dist-packages (from requests->earthpy) (3.4)\n",
            "Requirement already satisfied: urllib3<3,>=1.21.1 in /usr/local/lib/python3.10/dist-packages (from requests->earthpy) (2.0.7)\n",
            "Requirement already satisfied: networkx>=2.2 in /usr/local/lib/python3.10/dist-packages (from scikit-image->earthpy) (3.2.1)\n",
            "Requirement already satisfied: imageio>=2.4.1 in /usr/local/lib/python3.10/dist-packages (from scikit-image->earthpy) (2.31.6)\n",
            "Requirement already satisfied: tifffile>=2019.7.26 in /usr/local/lib/python3.10/dist-packages (from scikit-image->earthpy) (2023.9.26)\n",
            "Requirement already satisfied: PyWavelets>=1.1.1 in /usr/local/lib/python3.10/dist-packages (from scikit-image->earthpy) (1.4.1)\n",
            "Requirement already satisfied: six in /usr/local/lib/python3.10/dist-packages (from fiona>=1.8.19->geopandas->earthpy) (1.16.0)\n",
            "Requirement already satisfied: pytz>=2020.1 in /usr/local/lib/python3.10/dist-packages (from pandas>=1.1.0->geopandas->earthpy) (2023.3.post1)\n"
          ]
        }
      ]
    },
    {
      "cell_type": "code",
      "source": [
        "import rasterio as rio\n",
        "import numpy as np\n",
        "import geopandas as gpd\n",
        "from sklearn.model_selection import train_test_split\n",
        "import fiona\n",
        "from rasterio.features import geometry_mask\n",
        "from sklearn.ensemble import RandomForestClassifier\n",
        "from sklearn.metrics import classification_report, accuracy_score\n",
        "\n",
        "from rasterio.plot import show\n",
        "import matplotlib.pyplot as plt\n",
        "import seaborn as sns\n",
        "import pandas as pd\n",
        "import sklearn\n",
        "from osgeo import ogr, gdal\n",
        "from glob import glob\n",
        "import earthpy.spatial as es\n",
        "import rasterio.warp\n",
        "from rasterio.enums import Resampling\n"
      ],
      "metadata": {
        "id": "k4lzt9RvBUl_"
      },
      "execution_count": null,
      "outputs": []
    },
    {
      "cell_type": "code",
      "source": [
        "from google.colab import drive\n",
        "drive.mount('/content/drive')"
      ],
      "metadata": {
        "colab": {
          "base_uri": "https://localhost:8080/"
        },
        "id": "sGlBi35rHq0X",
        "outputId": "b8396733-b9a7-43c2-d0c0-e6b7c91228d3"
      },
      "execution_count": null,
      "outputs": [
        {
          "output_type": "stream",
          "name": "stdout",
          "text": [
            "Drive already mounted at /content/drive; to attempt to forcibly remount, call drive.mount(\"/content/drive\", force_remount=True).\n"
          ]
        }
      ]
    },
    {
      "cell_type": "code",
      "source": [
        "# input files\n",
        "satellite = '/content/drive/MyDrive/PIXELS_python/Data/Both_bays_Aug05_2023_psscene_analytic_8b_sr_udm2/PSScene/20230805_181911_07_24b5_3B_AnalyticMS_SR_8b_clip.tif'\n",
        "satellite2 = '/content/drive/MyDrive/PIXELS_python/Data/bothbays2022/20220808_184509_87_249b_3B_AnalyticMS_SR_8b_clip.tif'\n",
        "points = '/content/drive/MyDrive/PIXELS_python/Data/training_points_1attribute/training_points_1attribute.shp'\n",
        "temp_point_loc = '/content/drive/MyDrive/PIXELS_python/Data/empty_shp/empty.shp'\n",
        "dem = ...\n",
        "slope = ...\n",
        "aspect = ..."
      ],
      "metadata": {
        "id": "IXZVqjf_9owK"
      },
      "execution_count": null,
      "outputs": []
    },
    {
      "cell_type": "code",
      "source": [
        "# reading bands from input, returns how many\n",
        "with rio.open(satellite2) as img:\n",
        "    bands = img.count\n",
        "    print('PSScene bands: ', bands) #the satellite imagery I used is PlanetScope PSScene product\n",
        "\n",
        "#creates list of band names from image\n",
        "features = []\n",
        "for i in range(bands):\n",
        "    features.append('band'+str(i+1))\n",
        "print('Bands names: ', features)\n",
        "f_len = len(features)"
      ],
      "metadata": {
        "colab": {
          "base_uri": "https://localhost:8080/"
        },
        "id": "EUOTlcii-MMw",
        "outputId": "438e49f0-9d0c-4408-e073-3a381d34dcfe"
      },
      "execution_count": null,
      "outputs": [
        {
          "output_type": "stream",
          "name": "stdout",
          "text": [
            "PSScene bands:  8\n",
            "Bands names:  ['band1', 'band2', 'band3', 'band4', 'band5', 'band6', 'band7', 'band8']\n"
          ]
        }
      ]
    },
    {
      "cell_type": "code",
      "source": [
        "#reading the shapefile with training data as points as a geodataframe (gdf\n",
        "points = gpd.read_file(points)\n",
        "\n",
        "# adding a new column 'id'\n",
        "points = points.assign(id=range(len(points)))\n",
        "# saving new empty shapefile with 'id' column\n",
        "points.to_file(temp_point_loc)\n",
        "# converting gdf to dataframe (df) and removing geometry\n",
        "points_df = pd.DataFrame(points.drop(columns='geometry'))\n"
      ],
      "metadata": {
        "id": "96f2-EX-Lg3T"
      },
      "execution_count": null,
      "outputs": []
    },
    {
      "cell_type": "code",
      "source": [
        "#assigning each band to a variable\n",
        "with rio.open(satellite2) as sat:\n",
        "  band1 = sat.read(1)\n",
        "  band2 = sat.read(2)\n",
        "  band3 = sat.read(3)\n",
        "  band4 = sat.read(4)\n",
        "  band5 = sat.read(5)\n",
        "  band6 = sat.read(6)\n",
        "  band7 = sat.read(7)\n",
        "  band8 = sat.read(8)"
      ],
      "metadata": {
        "id": "lb53BN0CAsnB"
      },
      "execution_count": null,
      "outputs": []
    },
    {
      "cell_type": "code",
      "source": [
        "### working on making above function more redundant\n",
        "\n",
        "arr = []\n",
        "with rio.open(satellite2) as src:\n",
        "  for i in range(1, 8):\n",
        "    arr.append(src.read(i))\n",
        "\n",
        "#reading indi\n",
        "arr1 = []\n",
        "with rio.open(satellite2) as src:\n",
        "  for i in range(0, 7):\n",
        "    arr1.append([features[i], arr[i]])\n",
        "\n",
        "band3 = arr1[2][1]\n"
      ],
      "metadata": {
        "id": "JNJi0IoHqXB9"
      },
      "execution_count": null,
      "outputs": []
    },
    {
      "cell_type": "code",
      "source": [
        "#paths to other raster layers for model input\n",
        "tpi_path = \"/content/drive/MyDrive/PIXELS_python/Raster_stacks/TPI.tif\"\n",
        "slope_path = \"/content/drive/MyDrive/PIXELS_python/Raster_stacks/slope.tif\"\n",
        "\n",
        "#getting crs of satellite imagery\n",
        "with rio.open(satellite2) as sat:\n",
        "  sat_crs = sat.crs\n",
        "  print(\"satellite crs: \" + str(sat.crs))\n",
        "  print(src.transform)\n",
        "\n",
        "#assigning slope raster as a variable and returning crs\n",
        "with rio.open(slope_path) as slp:\n",
        "  slope = slp.read()\n",
        "  print(\"slope crs: \" + str(slp.crs))\n",
        "  print(src.transform)\n",
        "\n",
        "#assigning tpi raster as a variable and returning crs\n",
        "with rio.open(tpi_path) as t:\n",
        "  tpi = t.read()\n",
        "  print(\"tpi crs: \" + str(t.crs))\n",
        "  print(src.transform)\n",
        "\n",
        "#list of all band paths\n",
        "band_paths = [satellite2, tpi_path, slope_path]"
      ],
      "metadata": {
        "colab": {
          "base_uri": "https://localhost:8080/"
        },
        "id": "ymObIjlB0oNj",
        "outputId": "698aa78d-62f4-4064-cc90-932026eb935d"
      },
      "execution_count": null,
      "outputs": [
        {
          "output_type": "stream",
          "name": "stdout",
          "text": [
            "satellite crs: EPSG:32610\n",
            "| 3.00, 0.00, 499176.00|\n",
            "| 0.00,-3.00, 5531376.00|\n",
            "| 0.00, 0.00, 1.00|\n",
            "slope crs: EPSG:4326\n",
            "| 3.00, 0.00, 499176.00|\n",
            "| 0.00,-3.00, 5531376.00|\n",
            "| 0.00, 0.00, 1.00|\n",
            "tpi crs: EPSG:4326\n",
            "| 3.00, 0.00, 499176.00|\n",
            "| 0.00,-3.00, 5531376.00|\n",
            "| 0.00, 0.00, 1.00|\n"
          ]
        }
      ]
    },
    {
      "cell_type": "code",
      "source": [
        "#reproject layers to match CRS of satellite imagery (or other crs)\n",
        "\n",
        "def reproject_raster(in_path, out_path, target_crs):\n",
        "    with rio.open(in_path) as src:\n",
        "        transform, width, height = rio.warp.calculate_default_transform(src.crs, target_crs, src.width, src.height, *src.bounds)\n",
        "        kwargs = src.meta.copy()\n",
        "        kwargs.update({\n",
        "            'crs': target_crs,\n",
        "            'transform': transform,\n",
        "            'width': width,\n",
        "            'height': height\n",
        "        })\n",
        "\n",
        "        with rio.open(out_path, 'w', **kwargs) as dst:\n",
        "            for i in range(1, src.count + 1):\n",
        "                rio.warp.reproject(\n",
        "                    source=rio.band(src, i),\n",
        "                    destination=rio.band(dst, i),\n",
        "                    src_transform=src.transform,\n",
        "                    src_crs=src.crs,\n",
        "                    dst_transform=transform,\n",
        "                    dst_crs=target_crs,\n",
        "                    resampling=Resampling.nearest\n",
        "                )\n",
        "\n",
        "# assign target crs to variable, define output directory for reprojected layers\n",
        "target_crs = 'EPSG:32610'\n",
        "output_slope = \"/content/drive/MyDrive/PIXELS_python/Data/reprojected_slope.tif\"\n",
        "output_tpi = \"/content/drive/MyDrive/PIXELS_python/Data/reprojected_tpi.tif\"\n",
        "\n",
        "# Reproject the slope, tpi, and any other rasters used as model input\n",
        "reproject_raster(slope_path, output_slope, target_crs)\n",
        "reproject_raster(tpi_path, output_tpi, target_crs)\n",
        "\n",
        "#reassign variables\n",
        "slope_path = output_slope\n",
        "tpi_path = output_tpi"
      ],
      "metadata": {
        "id": "L1gXUdvYI4jR"
      },
      "execution_count": null,
      "outputs": []
    },
    {
      "cell_type": "code",
      "source": [
        "#making extent to crop rasters to\n",
        "\n",
        "with rasterio.open(satellite2) as sat:\n",
        "        bounds = sat.bounds\n",
        "        xmin = bounds.left\n",
        "        ymin = bounds.bottom\n",
        "        xmax = bounds.right\n",
        "        ymax = bounds.top\n",
        "print(xmin, ymin, xmax, ymax)"
      ],
      "metadata": {
        "colab": {
          "base_uri": "https://localhost:8080/"
        },
        "id": "D8UBKdcoQmrS",
        "outputId": "afb7ed4c-6c30-4b5e-ed66-992530a7db35"
      },
      "execution_count": null,
      "outputs": [
        {
          "output_type": "stream",
          "name": "stdout",
          "text": [
            "499176.0 5526240.0 503412.0 5531376.0\n"
          ]
        }
      ]
    },
    {
      "cell_type": "code",
      "source": [
        "from rasterio.coords import BoundingBox\n",
        "\n",
        "from rasterio.mask import mask\n",
        "\n",
        "def crop_raster_to_given_extent(input_path, output_path, extent):\n",
        "    \"\"\"\n",
        "    Crop a raster to a given extent and save the result to a new file.\n",
        "\n",
        "    Parameters:\n",
        "    - input_path (str): Path to the input raster file.\n",
        "    - output_path (str): Path to the output cropped raster file.\n",
        "    - extent (tuple): Bounding box (left, bottom, right, top) of the desired extent.\n",
        "    \"\"\"\n",
        "    # Open the input raster\n",
        "    src = rasterio.open(input_path)\n",
        "\n",
        "    # Crop the raster to the given extent\n",
        "    out_image, out_transform = mask(src, [extent], crop=True)\n",
        "\n",
        "    # Update metadata for the cropped raster\n",
        "    out_meta = src.meta.copy()\n",
        "    out_meta.update({\n",
        "        \"driver\": \"GTiff\",\n",
        "        \"height\": out_image.shape[1],\n",
        "        \"width\": out_image.shape[2],\n",
        "        \"transform\": out_transform\n",
        "    })\n",
        "\n",
        "    # Write the cropped raster to the output file\n",
        "    with rasterio.open(output_path, 'w', **out_meta) as dest:\n",
        "        dest.write(out_image)\n",
        "\n",
        "# cropping rasters\n",
        "cropped_slope = '/content/drive/MyDrive/PIXELS_python/Data/cropped_slope.tif'\n",
        "cropped_tif = '/content/drive/MyDrive/PIXELS_python/Data/cropped_slope.tif'\n",
        "extent = BoundingBox(xmin, ymin, xmax, ymax)  # Replace with the desired extent\n",
        "\n",
        "crop_raster(slope_path, cropped_slope)\n"
      ],
      "metadata": {
        "colab": {
          "base_uri": "https://localhost:8080/",
          "height": 356
        },
        "id": "TwMLn07FT83Y",
        "outputId": "7159972b-298f-473d-ef65-400e503b5944"
      },
      "execution_count": null,
      "outputs": [
        {
          "output_type": "error",
          "ename": "TypeError",
          "evalue": "ignored",
          "traceback": [
            "\u001b[0;31m---------------------------------------------------------------------------\u001b[0m",
            "\u001b[0;31mTypeError\u001b[0m                                 Traceback (most recent call last)",
            "\u001b[0;32m<ipython-input-39-9b7b60fb1f44>\u001b[0m in \u001b[0;36m<cell line: 38>\u001b[0;34m()\u001b[0m\n\u001b[1;32m     36\u001b[0m \u001b[0mextent\u001b[0m \u001b[0;34m=\u001b[0m \u001b[0mBoundingBox\u001b[0m\u001b[0;34m(\u001b[0m\u001b[0mxmin\u001b[0m\u001b[0;34m,\u001b[0m \u001b[0mymin\u001b[0m\u001b[0;34m,\u001b[0m \u001b[0mxmax\u001b[0m\u001b[0;34m,\u001b[0m \u001b[0mymax\u001b[0m\u001b[0;34m)\u001b[0m  \u001b[0;31m# Replace with the desired extent\u001b[0m\u001b[0;34m\u001b[0m\u001b[0;34m\u001b[0m\u001b[0m\n\u001b[1;32m     37\u001b[0m \u001b[0;34m\u001b[0m\u001b[0m\n\u001b[0;32m---> 38\u001b[0;31m \u001b[0mcrop_raster\u001b[0m\u001b[0;34m(\u001b[0m\u001b[0mslope_path\u001b[0m\u001b[0;34m,\u001b[0m \u001b[0mcropped_slope\u001b[0m\u001b[0;34m)\u001b[0m\u001b[0;34m\u001b[0m\u001b[0;34m\u001b[0m\u001b[0m\n\u001b[0m",
            "\u001b[0;32m<ipython-input-32-a2aff38b8fa8>\u001b[0m in \u001b[0;36mcrop_raster\u001b[0;34m(input_path, output_path)\u001b[0m\n\u001b[1;32m     15\u001b[0m \u001b[0;34m\u001b[0m\u001b[0m\n\u001b[1;32m     16\u001b[0m     \u001b[0;31m# Crop the raster to the given extent\u001b[0m\u001b[0;34m\u001b[0m\u001b[0;34m\u001b[0m\u001b[0m\n\u001b[0;32m---> 17\u001b[0;31m     \u001b[0mout_image\u001b[0m\u001b[0;34m,\u001b[0m \u001b[0mout_transform\u001b[0m \u001b[0;34m=\u001b[0m \u001b[0mmask\u001b[0m\u001b[0;34m(\u001b[0m\u001b[0msrc\u001b[0m\u001b[0;34m,\u001b[0m \u001b[0;34m[\u001b[0m\u001b[0mleft_bound\u001b[0m\u001b[0;34m,\u001b[0m \u001b[0mbounds\u001b[0m\u001b[0;34m.\u001b[0m\u001b[0mbottom\u001b[0m\u001b[0;34m,\u001b[0m \u001b[0mbounds\u001b[0m\u001b[0;34m.\u001b[0m\u001b[0mright\u001b[0m\u001b[0;34m,\u001b[0m \u001b[0mbounds\u001b[0m\u001b[0;34m.\u001b[0m\u001b[0mtop\u001b[0m\u001b[0;34m]\u001b[0m\u001b[0;34m,\u001b[0m \u001b[0mcrop\u001b[0m\u001b[0;34m=\u001b[0m\u001b[0;32mTrue\u001b[0m\u001b[0;34m)\u001b[0m\u001b[0;34m\u001b[0m\u001b[0;34m\u001b[0m\u001b[0m\n\u001b[0m\u001b[1;32m     18\u001b[0m \u001b[0;34m\u001b[0m\u001b[0m\n\u001b[1;32m     19\u001b[0m     \u001b[0;31m# Update metadata for the cropped raster\u001b[0m\u001b[0;34m\u001b[0m\u001b[0;34m\u001b[0m\u001b[0m\n",
            "\u001b[0;32m/usr/local/lib/python3.10/dist-packages/rasterio/mask.py\u001b[0m in \u001b[0;36mmask\u001b[0;34m(dataset, shapes, all_touched, invert, nodata, filled, crop, pad, pad_width, indexes)\u001b[0m\n\u001b[1;32m    176\u001b[0m             \u001b[0mnodata\u001b[0m \u001b[0;34m=\u001b[0m \u001b[0;36m0\u001b[0m\u001b[0;34m\u001b[0m\u001b[0;34m\u001b[0m\u001b[0m\n\u001b[1;32m    177\u001b[0m \u001b[0;34m\u001b[0m\u001b[0m\n\u001b[0;32m--> 178\u001b[0;31m     shape_mask, transform, window = raster_geometry_mask(\n\u001b[0m\u001b[1;32m    179\u001b[0m         \u001b[0mdataset\u001b[0m\u001b[0;34m,\u001b[0m \u001b[0mshapes\u001b[0m\u001b[0;34m,\u001b[0m \u001b[0mall_touched\u001b[0m\u001b[0;34m=\u001b[0m\u001b[0mall_touched\u001b[0m\u001b[0;34m,\u001b[0m \u001b[0minvert\u001b[0m\u001b[0;34m=\u001b[0m\u001b[0minvert\u001b[0m\u001b[0;34m,\u001b[0m \u001b[0mcrop\u001b[0m\u001b[0;34m=\u001b[0m\u001b[0mcrop\u001b[0m\u001b[0;34m,\u001b[0m\u001b[0;34m\u001b[0m\u001b[0;34m\u001b[0m\u001b[0m\n\u001b[1;32m    180\u001b[0m         pad=pad, pad_width=pad_width)\n",
            "\u001b[0;32m/usr/local/lib/python3.10/dist-packages/rasterio/mask.py\u001b[0m in \u001b[0;36mraster_geometry_mask\u001b[0;34m(dataset, shapes, all_touched, invert, crop, pad, pad_width)\u001b[0m\n\u001b[1;32m     78\u001b[0m \u001b[0;34m\u001b[0m\u001b[0m\n\u001b[1;32m     79\u001b[0m     \u001b[0;32mtry\u001b[0m\u001b[0;34m:\u001b[0m\u001b[0;34m\u001b[0m\u001b[0;34m\u001b[0m\u001b[0m\n\u001b[0;32m---> 80\u001b[0;31m         \u001b[0mwindow\u001b[0m \u001b[0;34m=\u001b[0m \u001b[0mgeometry_window\u001b[0m\u001b[0;34m(\u001b[0m\u001b[0mdataset\u001b[0m\u001b[0;34m,\u001b[0m \u001b[0mshapes\u001b[0m\u001b[0;34m,\u001b[0m \u001b[0mpad_x\u001b[0m\u001b[0;34m=\u001b[0m\u001b[0mpad_x\u001b[0m\u001b[0;34m,\u001b[0m \u001b[0mpad_y\u001b[0m\u001b[0;34m=\u001b[0m\u001b[0mpad_y\u001b[0m\u001b[0;34m)\u001b[0m\u001b[0;34m\u001b[0m\u001b[0;34m\u001b[0m\u001b[0m\n\u001b[0m\u001b[1;32m     81\u001b[0m \u001b[0;34m\u001b[0m\u001b[0m\n\u001b[1;32m     82\u001b[0m     \u001b[0;32mexcept\u001b[0m \u001b[0mWindowError\u001b[0m\u001b[0;34m:\u001b[0m\u001b[0;34m\u001b[0m\u001b[0;34m\u001b[0m\u001b[0m\n",
            "\u001b[0;32m/usr/local/lib/python3.10/dist-packages/rasterio/features.py\u001b[0m in \u001b[0;36mgeometry_window\u001b[0;34m(dataset, shapes, pad_x, pad_y, north_up, rotated, pixel_precision, boundless)\u001b[0m\n\u001b[1;32m    449\u001b[0m     \"\"\"\n\u001b[1;32m    450\u001b[0m \u001b[0;34m\u001b[0m\u001b[0m\n\u001b[0;32m--> 451\u001b[0;31m     \u001b[0mall_bounds\u001b[0m \u001b[0;34m=\u001b[0m \u001b[0;34m[\u001b[0m\u001b[0mbounds\u001b[0m\u001b[0;34m(\u001b[0m\u001b[0mshape\u001b[0m\u001b[0;34m,\u001b[0m \u001b[0mtransform\u001b[0m\u001b[0;34m=\u001b[0m\u001b[0;34m~\u001b[0m\u001b[0mdataset\u001b[0m\u001b[0;34m.\u001b[0m\u001b[0mtransform\u001b[0m\u001b[0;34m)\u001b[0m \u001b[0;32mfor\u001b[0m \u001b[0mshape\u001b[0m \u001b[0;32min\u001b[0m \u001b[0mshapes\u001b[0m\u001b[0;34m]\u001b[0m\u001b[0;34m\u001b[0m\u001b[0;34m\u001b[0m\u001b[0m\n\u001b[0m\u001b[1;32m    452\u001b[0m \u001b[0;34m\u001b[0m\u001b[0m\n\u001b[1;32m    453\u001b[0m     cols = [\n",
            "\u001b[0;32m/usr/local/lib/python3.10/dist-packages/rasterio/features.py\u001b[0m in \u001b[0;36m<listcomp>\u001b[0;34m(.0)\u001b[0m\n\u001b[1;32m    449\u001b[0m     \"\"\"\n\u001b[1;32m    450\u001b[0m \u001b[0;34m\u001b[0m\u001b[0m\n\u001b[0;32m--> 451\u001b[0;31m     \u001b[0mall_bounds\u001b[0m \u001b[0;34m=\u001b[0m \u001b[0;34m[\u001b[0m\u001b[0mbounds\u001b[0m\u001b[0;34m(\u001b[0m\u001b[0mshape\u001b[0m\u001b[0;34m,\u001b[0m \u001b[0mtransform\u001b[0m\u001b[0;34m=\u001b[0m\u001b[0;34m~\u001b[0m\u001b[0mdataset\u001b[0m\u001b[0;34m.\u001b[0m\u001b[0mtransform\u001b[0m\u001b[0;34m)\u001b[0m \u001b[0;32mfor\u001b[0m \u001b[0mshape\u001b[0m \u001b[0;32min\u001b[0m \u001b[0mshapes\u001b[0m\u001b[0;34m]\u001b[0m\u001b[0;34m\u001b[0m\u001b[0;34m\u001b[0m\u001b[0m\n\u001b[0m\u001b[1;32m    452\u001b[0m \u001b[0;34m\u001b[0m\u001b[0m\n\u001b[1;32m    453\u001b[0m     cols = [\n",
            "\u001b[0;32m/usr/local/lib/python3.10/dist-packages/rasterio/features.py\u001b[0m in \u001b[0;36mbounds\u001b[0;34m(geometry, north_up, transform)\u001b[0m\n\u001b[1;32m    386\u001b[0m     \u001b[0mgeometry\u001b[0m \u001b[0;34m=\u001b[0m \u001b[0mgetattr\u001b[0m\u001b[0;34m(\u001b[0m\u001b[0mgeometry\u001b[0m\u001b[0;34m,\u001b[0m \u001b[0;34m'__geo_interface__'\u001b[0m\u001b[0;34m,\u001b[0m \u001b[0;32mNone\u001b[0m\u001b[0;34m)\u001b[0m \u001b[0;32mor\u001b[0m \u001b[0mgeometry\u001b[0m\u001b[0;34m\u001b[0m\u001b[0;34m\u001b[0m\u001b[0m\n\u001b[1;32m    387\u001b[0m \u001b[0;34m\u001b[0m\u001b[0m\n\u001b[0;32m--> 388\u001b[0;31m     \u001b[0;32mif\u001b[0m \u001b[0;34m'bbox'\u001b[0m \u001b[0;32min\u001b[0m \u001b[0mgeometry\u001b[0m\u001b[0;34m:\u001b[0m\u001b[0;34m\u001b[0m\u001b[0;34m\u001b[0m\u001b[0m\n\u001b[0m\u001b[1;32m    389\u001b[0m         \u001b[0;32mreturn\u001b[0m \u001b[0mtuple\u001b[0m\u001b[0;34m(\u001b[0m\u001b[0mgeometry\u001b[0m\u001b[0;34m[\u001b[0m\u001b[0;34m'bbox'\u001b[0m\u001b[0;34m]\u001b[0m\u001b[0;34m)\u001b[0m\u001b[0;34m\u001b[0m\u001b[0;34m\u001b[0m\u001b[0m\n\u001b[1;32m    390\u001b[0m \u001b[0;34m\u001b[0m\u001b[0m\n",
            "\u001b[0;31mTypeError\u001b[0m: argument of type 'float' is not iterable"
          ]
        }
      ]
    },
    {
      "cell_type": "code",
      "source": [
        "#cropping rasters to same extent\n",
        "from rasterio.mask import mask\n",
        "\n",
        "def crop_raster(input_path, output_path):\n",
        "    \"\"\"\n",
        "    Crop a raster to a given extent and save the result to a new file.\n",
        "\n",
        "    Parameters:\n",
        "    - input_path (str): Path to the input raster file.\n",
        "    - output_path (str): Path to the output cropped raster file.\n",
        "    - extent (tuple): Bounding box (left, bottom, right, top) of the desired extent.\n",
        "    \"\"\"\n",
        "    # Open the input raster\n",
        "    src = rasterio.open(input_path)\n",
        "\n",
        "    # Crop the raster to the given extent\n",
        "    out_image, out_transform = mask(src, [left_bound, bounds.bottom, bounds.right, bounds.top], crop=True)\n",
        "\n",
        "    # Update metadata for the cropped raster\n",
        "    out_meta = src.meta.copy()\n",
        "    out_meta.update({\n",
        "        \"driver\": \"GTiff\",\n",
        "        \"height\": out_image.shape[1],\n",
        "        \"width\": out_image.shape[2],\n",
        "        \"transform\": out_transform\n",
        "    })\n",
        "\n",
        "    # Write the cropped raster to the output file\n",
        "    with rasterio.open(output_path, 'w', **out_meta) as out:\n",
        "        out.write(out_image)\n",
        "\n",
        "\n",
        "# cropping rasters\n",
        "cropped_slope = '/content/drive/MyDrive/PIXELS_python/Data/cropped_slope.tif'\n",
        "cropped_tif = '/content/drive/MyDrive/PIXELS_python/Data/cropped_slope.tif'\n",
        "#extent = (xmin, ymin, xmax, ymax)  # Replace with the desired extent\n",
        "\n",
        "crop_raster(slope_path, cropped_slope)\n"
      ],
      "metadata": {
        "colab": {
          "base_uri": "https://localhost:8080/",
          "height": 356
        },
        "id": "E4VbJwIuQbrZ",
        "outputId": "ee1c8838-d8be-41c8-fc4d-5b519d2d5468"
      },
      "execution_count": null,
      "outputs": [
        {
          "output_type": "error",
          "ename": "TypeError",
          "evalue": "ignored",
          "traceback": [
            "\u001b[0;31m---------------------------------------------------------------------------\u001b[0m",
            "\u001b[0;31mTypeError\u001b[0m                                 Traceback (most recent call last)",
            "\u001b[0;32m<ipython-input-32-a2aff38b8fa8>\u001b[0m in \u001b[0;36m<cell line: 38>\u001b[0;34m()\u001b[0m\n\u001b[1;32m     36\u001b[0m \u001b[0;31m#extent = (xmin, ymin, xmax, ymax)  # Replace with the desired extent\u001b[0m\u001b[0;34m\u001b[0m\u001b[0;34m\u001b[0m\u001b[0m\n\u001b[1;32m     37\u001b[0m \u001b[0;34m\u001b[0m\u001b[0m\n\u001b[0;32m---> 38\u001b[0;31m \u001b[0mcrop_raster\u001b[0m\u001b[0;34m(\u001b[0m\u001b[0mslope_path\u001b[0m\u001b[0;34m,\u001b[0m \u001b[0mcropped_slope\u001b[0m\u001b[0;34m)\u001b[0m\u001b[0;34m\u001b[0m\u001b[0;34m\u001b[0m\u001b[0m\n\u001b[0m",
            "\u001b[0;32m<ipython-input-32-a2aff38b8fa8>\u001b[0m in \u001b[0;36mcrop_raster\u001b[0;34m(input_path, output_path)\u001b[0m\n\u001b[1;32m     15\u001b[0m \u001b[0;34m\u001b[0m\u001b[0m\n\u001b[1;32m     16\u001b[0m     \u001b[0;31m# Crop the raster to the given extent\u001b[0m\u001b[0;34m\u001b[0m\u001b[0;34m\u001b[0m\u001b[0m\n\u001b[0;32m---> 17\u001b[0;31m     \u001b[0mout_image\u001b[0m\u001b[0;34m,\u001b[0m \u001b[0mout_transform\u001b[0m \u001b[0;34m=\u001b[0m \u001b[0mmask\u001b[0m\u001b[0;34m(\u001b[0m\u001b[0msrc\u001b[0m\u001b[0;34m,\u001b[0m \u001b[0;34m[\u001b[0m\u001b[0mleft_bound\u001b[0m\u001b[0;34m,\u001b[0m \u001b[0mbounds\u001b[0m\u001b[0;34m.\u001b[0m\u001b[0mbottom\u001b[0m\u001b[0;34m,\u001b[0m \u001b[0mbounds\u001b[0m\u001b[0;34m.\u001b[0m\u001b[0mright\u001b[0m\u001b[0;34m,\u001b[0m \u001b[0mbounds\u001b[0m\u001b[0;34m.\u001b[0m\u001b[0mtop\u001b[0m\u001b[0;34m]\u001b[0m\u001b[0;34m,\u001b[0m \u001b[0mcrop\u001b[0m\u001b[0;34m=\u001b[0m\u001b[0;32mTrue\u001b[0m\u001b[0;34m)\u001b[0m\u001b[0;34m\u001b[0m\u001b[0;34m\u001b[0m\u001b[0m\n\u001b[0m\u001b[1;32m     18\u001b[0m \u001b[0;34m\u001b[0m\u001b[0m\n\u001b[1;32m     19\u001b[0m     \u001b[0;31m# Update metadata for the cropped raster\u001b[0m\u001b[0;34m\u001b[0m\u001b[0;34m\u001b[0m\u001b[0m\n",
            "\u001b[0;32m/usr/local/lib/python3.10/dist-packages/rasterio/mask.py\u001b[0m in \u001b[0;36mmask\u001b[0;34m(dataset, shapes, all_touched, invert, nodata, filled, crop, pad, pad_width, indexes)\u001b[0m\n\u001b[1;32m    176\u001b[0m             \u001b[0mnodata\u001b[0m \u001b[0;34m=\u001b[0m \u001b[0;36m0\u001b[0m\u001b[0;34m\u001b[0m\u001b[0;34m\u001b[0m\u001b[0m\n\u001b[1;32m    177\u001b[0m \u001b[0;34m\u001b[0m\u001b[0m\n\u001b[0;32m--> 178\u001b[0;31m     shape_mask, transform, window = raster_geometry_mask(\n\u001b[0m\u001b[1;32m    179\u001b[0m         \u001b[0mdataset\u001b[0m\u001b[0;34m,\u001b[0m \u001b[0mshapes\u001b[0m\u001b[0;34m,\u001b[0m \u001b[0mall_touched\u001b[0m\u001b[0;34m=\u001b[0m\u001b[0mall_touched\u001b[0m\u001b[0;34m,\u001b[0m \u001b[0minvert\u001b[0m\u001b[0;34m=\u001b[0m\u001b[0minvert\u001b[0m\u001b[0;34m,\u001b[0m \u001b[0mcrop\u001b[0m\u001b[0;34m=\u001b[0m\u001b[0mcrop\u001b[0m\u001b[0;34m,\u001b[0m\u001b[0;34m\u001b[0m\u001b[0;34m\u001b[0m\u001b[0m\n\u001b[1;32m    180\u001b[0m         pad=pad, pad_width=pad_width)\n",
            "\u001b[0;32m/usr/local/lib/python3.10/dist-packages/rasterio/mask.py\u001b[0m in \u001b[0;36mraster_geometry_mask\u001b[0;34m(dataset, shapes, all_touched, invert, crop, pad, pad_width)\u001b[0m\n\u001b[1;32m     78\u001b[0m \u001b[0;34m\u001b[0m\u001b[0m\n\u001b[1;32m     79\u001b[0m     \u001b[0;32mtry\u001b[0m\u001b[0;34m:\u001b[0m\u001b[0;34m\u001b[0m\u001b[0;34m\u001b[0m\u001b[0m\n\u001b[0;32m---> 80\u001b[0;31m         \u001b[0mwindow\u001b[0m \u001b[0;34m=\u001b[0m \u001b[0mgeometry_window\u001b[0m\u001b[0;34m(\u001b[0m\u001b[0mdataset\u001b[0m\u001b[0;34m,\u001b[0m \u001b[0mshapes\u001b[0m\u001b[0;34m,\u001b[0m \u001b[0mpad_x\u001b[0m\u001b[0;34m=\u001b[0m\u001b[0mpad_x\u001b[0m\u001b[0;34m,\u001b[0m \u001b[0mpad_y\u001b[0m\u001b[0;34m=\u001b[0m\u001b[0mpad_y\u001b[0m\u001b[0;34m)\u001b[0m\u001b[0;34m\u001b[0m\u001b[0;34m\u001b[0m\u001b[0m\n\u001b[0m\u001b[1;32m     81\u001b[0m \u001b[0;34m\u001b[0m\u001b[0m\n\u001b[1;32m     82\u001b[0m     \u001b[0;32mexcept\u001b[0m \u001b[0mWindowError\u001b[0m\u001b[0;34m:\u001b[0m\u001b[0;34m\u001b[0m\u001b[0;34m\u001b[0m\u001b[0m\n",
            "\u001b[0;32m/usr/local/lib/python3.10/dist-packages/rasterio/features.py\u001b[0m in \u001b[0;36mgeometry_window\u001b[0;34m(dataset, shapes, pad_x, pad_y, north_up, rotated, pixel_precision, boundless)\u001b[0m\n\u001b[1;32m    449\u001b[0m     \"\"\"\n\u001b[1;32m    450\u001b[0m \u001b[0;34m\u001b[0m\u001b[0m\n\u001b[0;32m--> 451\u001b[0;31m     \u001b[0mall_bounds\u001b[0m \u001b[0;34m=\u001b[0m \u001b[0;34m[\u001b[0m\u001b[0mbounds\u001b[0m\u001b[0;34m(\u001b[0m\u001b[0mshape\u001b[0m\u001b[0;34m,\u001b[0m \u001b[0mtransform\u001b[0m\u001b[0;34m=\u001b[0m\u001b[0;34m~\u001b[0m\u001b[0mdataset\u001b[0m\u001b[0;34m.\u001b[0m\u001b[0mtransform\u001b[0m\u001b[0;34m)\u001b[0m \u001b[0;32mfor\u001b[0m \u001b[0mshape\u001b[0m \u001b[0;32min\u001b[0m \u001b[0mshapes\u001b[0m\u001b[0;34m]\u001b[0m\u001b[0;34m\u001b[0m\u001b[0;34m\u001b[0m\u001b[0m\n\u001b[0m\u001b[1;32m    452\u001b[0m \u001b[0;34m\u001b[0m\u001b[0m\n\u001b[1;32m    453\u001b[0m     cols = [\n",
            "\u001b[0;32m/usr/local/lib/python3.10/dist-packages/rasterio/features.py\u001b[0m in \u001b[0;36m<listcomp>\u001b[0;34m(.0)\u001b[0m\n\u001b[1;32m    449\u001b[0m     \"\"\"\n\u001b[1;32m    450\u001b[0m \u001b[0;34m\u001b[0m\u001b[0m\n\u001b[0;32m--> 451\u001b[0;31m     \u001b[0mall_bounds\u001b[0m \u001b[0;34m=\u001b[0m \u001b[0;34m[\u001b[0m\u001b[0mbounds\u001b[0m\u001b[0;34m(\u001b[0m\u001b[0mshape\u001b[0m\u001b[0;34m,\u001b[0m \u001b[0mtransform\u001b[0m\u001b[0;34m=\u001b[0m\u001b[0;34m~\u001b[0m\u001b[0mdataset\u001b[0m\u001b[0;34m.\u001b[0m\u001b[0mtransform\u001b[0m\u001b[0;34m)\u001b[0m \u001b[0;32mfor\u001b[0m \u001b[0mshape\u001b[0m \u001b[0;32min\u001b[0m \u001b[0mshapes\u001b[0m\u001b[0;34m]\u001b[0m\u001b[0;34m\u001b[0m\u001b[0;34m\u001b[0m\u001b[0m\n\u001b[0m\u001b[1;32m    452\u001b[0m \u001b[0;34m\u001b[0m\u001b[0m\n\u001b[1;32m    453\u001b[0m     cols = [\n",
            "\u001b[0;32m/usr/local/lib/python3.10/dist-packages/rasterio/features.py\u001b[0m in \u001b[0;36mbounds\u001b[0;34m(geometry, north_up, transform)\u001b[0m\n\u001b[1;32m    386\u001b[0m     \u001b[0mgeometry\u001b[0m \u001b[0;34m=\u001b[0m \u001b[0mgetattr\u001b[0m\u001b[0;34m(\u001b[0m\u001b[0mgeometry\u001b[0m\u001b[0;34m,\u001b[0m \u001b[0;34m'__geo_interface__'\u001b[0m\u001b[0;34m,\u001b[0m \u001b[0;32mNone\u001b[0m\u001b[0;34m)\u001b[0m \u001b[0;32mor\u001b[0m \u001b[0mgeometry\u001b[0m\u001b[0;34m\u001b[0m\u001b[0;34m\u001b[0m\u001b[0m\n\u001b[1;32m    387\u001b[0m \u001b[0;34m\u001b[0m\u001b[0m\n\u001b[0;32m--> 388\u001b[0;31m     \u001b[0;32mif\u001b[0m \u001b[0;34m'bbox'\u001b[0m \u001b[0;32min\u001b[0m \u001b[0mgeometry\u001b[0m\u001b[0;34m:\u001b[0m\u001b[0;34m\u001b[0m\u001b[0;34m\u001b[0m\u001b[0m\n\u001b[0m\u001b[1;32m    389\u001b[0m         \u001b[0;32mreturn\u001b[0m \u001b[0mtuple\u001b[0m\u001b[0;34m(\u001b[0m\u001b[0mgeometry\u001b[0m\u001b[0;34m[\u001b[0m\u001b[0;34m'bbox'\u001b[0m\u001b[0;34m]\u001b[0m\u001b[0;34m)\u001b[0m\u001b[0;34m\u001b[0m\u001b[0;34m\u001b[0m\u001b[0m\n\u001b[1;32m    390\u001b[0m \u001b[0;34m\u001b[0m\u001b[0m\n",
            "\u001b[0;31mTypeError\u001b[0m: argument of type 'float' is not iterable"
          ]
        }
      ]
    },
    {
      "cell_type": "code",
      "source": [
        "#getting crs of satellite imagery\n",
        "with rio.open(satellite2) as sat:\n",
        "  sat_crs = sat.crs\n",
        "  print(\"satellite crs: \" + str(sat.crs))\n",
        "  print(src.transform)\n",
        "\n",
        "#assigning slope raster as a variable and returning crs\n",
        "with rio.open(slope_path) as slp:\n",
        "  slope = slp.read()\n",
        "  print(\"slope crs: \" + str(slp.crs))\n",
        "  print(src.transform)\n",
        "\n",
        "#assigning tpi raster as a variable and returning crs\n",
        "with rio.open(tpi_path) as t:\n",
        "  tpi = t.read()\n",
        "  print(\"tpi crs: \" + str(t.crs))\n",
        "  print(src.transform)\n",
        "\n",
        "#list of all band paths\n",
        "band_paths = [satellite2, tpi_path, slope_path]"
      ],
      "metadata": {
        "colab": {
          "base_uri": "https://localhost:8080/"
        },
        "id": "s0Z1QJYUN5AG",
        "outputId": "d8f268b8-c4c2-4c18-ce83-1746031fbe1a"
      },
      "execution_count": null,
      "outputs": [
        {
          "output_type": "stream",
          "name": "stdout",
          "text": [
            "satellite crs: EPSG:32610\n",
            "| 3.00, 0.00, 499176.00|\n",
            "| 0.00,-3.00, 5531376.00|\n",
            "| 0.00, 0.00, 1.00|\n",
            "slope crs: EPSG:4326\n",
            "| 3.00, 0.00, 499176.00|\n",
            "| 0.00,-3.00, 5531376.00|\n",
            "| 0.00, 0.00, 1.00|\n",
            "tpi crs: EPSG:4326\n",
            "| 3.00, 0.00, 499176.00|\n",
            "| 0.00,-3.00, 5531376.00|\n",
            "| 0.00, 0.00, 1.00|\n"
          ]
        }
      ]
    },
    {
      "cell_type": "code",
      "source": [
        "#stacking bands\n",
        "output_dir = (\"/content/drive/MyDrive/PIXELS_python/Raster_stacks/stacked.tif\")\n",
        "\n",
        "es.stack(band_paths, output_dir, nodata= 0)"
      ],
      "metadata": {
        "colab": {
          "base_uri": "https://localhost:8080/",
          "height": 332
        },
        "id": "ugiX5MLMz7cc",
        "outputId": "c4ee3f0d-9588-45f0-bcf4-0fbbcdd6557c"
      },
      "execution_count": null,
      "outputs": [
        {
          "output_type": "error",
          "ename": "ValueError",
          "evalue": "ignored",
          "traceback": [
            "\u001b[0;31m---------------------------------------------------------------------------\u001b[0m",
            "\u001b[0;31mValueError\u001b[0m                                Traceback (most recent call last)",
            "\u001b[0;32m<ipython-input-12-c77240aace1b>\u001b[0m in \u001b[0;36m<cell line: 4>\u001b[0;34m()\u001b[0m\n\u001b[1;32m      2\u001b[0m \u001b[0moutput_dir\u001b[0m \u001b[0;34m=\u001b[0m \u001b[0;34m(\u001b[0m\u001b[0;34m\"/content/drive/MyDrive/PIXELS_python/Raster_stacks/stacked.tif\"\u001b[0m\u001b[0;34m)\u001b[0m\u001b[0;34m\u001b[0m\u001b[0;34m\u001b[0m\u001b[0m\n\u001b[1;32m      3\u001b[0m \u001b[0;34m\u001b[0m\u001b[0m\n\u001b[0;32m----> 4\u001b[0;31m \u001b[0mes\u001b[0m\u001b[0;34m.\u001b[0m\u001b[0mstack\u001b[0m\u001b[0;34m(\u001b[0m\u001b[0mband_paths\u001b[0m\u001b[0;34m,\u001b[0m \u001b[0moutput_dir\u001b[0m\u001b[0;34m,\u001b[0m \u001b[0mnodata\u001b[0m\u001b[0;34m=\u001b[0m \u001b[0;36m0\u001b[0m\u001b[0;34m)\u001b[0m\u001b[0;34m\u001b[0m\u001b[0;34m\u001b[0m\u001b[0m\n\u001b[0m",
            "\u001b[0;32m/usr/local/lib/python3.10/dist-packages/earthpy/spatial.py\u001b[0m in \u001b[0;36mstack\u001b[0;34m(band_paths, out_path, nodata)\u001b[0m\n\u001b[1;32m    210\u001b[0m \u001b[0;34m\u001b[0m\u001b[0m\n\u001b[1;32m    211\u001b[0m         \u001b[0;32mif\u001b[0m \u001b[0;32mnot\u001b[0m \u001b[0mlen\u001b[0m\u001b[0;34m(\u001b[0m\u001b[0mset\u001b[0m\u001b[0;34m(\u001b[0m\u001b[0mdest_aff\u001b[0m\u001b[0;34m)\u001b[0m\u001b[0;34m)\u001b[0m \u001b[0;34m==\u001b[0m \u001b[0;36m1\u001b[0m\u001b[0;34m:\u001b[0m\u001b[0;34m\u001b[0m\u001b[0;34m\u001b[0m\u001b[0m\n\u001b[0;32m--> 212\u001b[0;31m             raise ValueError(\n\u001b[0m\u001b[1;32m    213\u001b[0m                 \u001b[0;34m\"Please ensure all source rasters have same affine transform.\"\u001b[0m\u001b[0;34m\u001b[0m\u001b[0;34m\u001b[0m\u001b[0m\n\u001b[1;32m    214\u001b[0m             )\n",
            "\u001b[0;31mValueError\u001b[0m: Please ensure all source rasters have same affine transform."
          ]
        }
      ]
    },
    {
      "cell_type": "code",
      "source": [
        "# displaying bands from the satellite image\n",
        "\n",
        "from matplotlib import pyplot\n",
        "sat = rio.open(satellite2)\n",
        "\n",
        "def display_band(sat_band):\n",
        "  pyplot.imshow(sat.read(sat_band), cmap='pink')\n",
        "\n",
        "display_band(2)"
      ],
      "metadata": {
        "id": "OouYuQj-n-No"
      },
      "execution_count": null,
      "outputs": []
    },
    {
      "cell_type": "code",
      "source": [
        "# ilterating over multiband raster\n",
        "sampled = pd.Series()\n",
        "\n",
        "#inputShape= temp_point_loc\n",
        "# Read input shapefile with fiona and iterate over each feature\n",
        "with fiona.open(temp_point_loc) as shp:\n",
        "    for feature in shp:\n",
        "        siteID = feature['properties']['num_class']\n",
        "        coords = feature['geometry']['coordinates']\n",
        "        # Read pixel value at the given coordinates using Rasterio\n",
        "        # NB: `sample()` returns an iterable of ndarrays.\n",
        "        with rio.open(satellite2) as stack_src:\n",
        "                  value = [v for v in stack_src.sample([coords])]\n",
        "        # Update the pandas serie accordingly\n",
        "        sampled.loc[siteID] = value\n",
        "\n",
        "# reshaping sampled values\n",
        "df1 = pd.DataFrame(sampled.values.tolist(), index=sampled.index)\n",
        "df1['num_class'] = df1.index\n",
        "df1 = pd.DataFrame(df1[0].values.tolist(),\n",
        "                   columns=features)\n",
        "df1['num_class'] = df1.index\n",
        "\n",
        "data = pd.merge(df1, points_df, on ='num_class')\n",
        "print('Sampled Data: \\n',data)"
      ],
      "metadata": {
        "id": "QUBodk9w-t3B"
      },
      "execution_count": null,
      "outputs": []
    },
    {
      "cell_type": "code",
      "source": [
        "x = data.iloc[:,0:f_len]\n",
        "X = x.values\n",
        "y = data.iloc[:,-2]\n",
        "Y = y.values\n",
        "\n",
        "print(X)\n",
        "\n",
        "from sklearn.model_selection import train_test_split\n",
        "\n",
        "X_train, X_test, y_train, y_test = train_test_split(X, Y, test_size=0.30, stratify = Y)\n",
        "\n",
        "print(f'X_train Shape: {X_train.shape}\\nX_test Shape: {X_test.shape}\\ny_train Shape: {y_train.shape}\\ny_test Shape:{y_test.shape}')"
      ],
      "metadata": {
        "id": "ilQT2Q9IALcQ"
      },
      "execution_count": null,
      "outputs": []
    },
    {
      "cell_type": "code",
      "source": [
        "from sklearn.svm import SVC\n",
        "from sklearn.metrics import confusion_matrix\n",
        "cName = 'SVM'\n",
        "clf = SVC(kernel='rbf')\n",
        "clf.fit(X_train, y_train)\n",
        "\n",
        "clf_pred = clf.predict(X_test)\n",
        "\n",
        "print(f\"Accuracy {cName}: {accuracy_score(y_test, clf_pred)*100}\")\n",
        "print(classification_report(y_test, clf_pred))\n"
      ],
      "metadata": {
        "id": "LYgwMLw-DCrS"
      },
      "execution_count": null,
      "outputs": []
    },
    {
      "cell_type": "code",
      "source": [
        "#confusion matrix\n",
        "\n",
        "cm = confusion_matrix(y_test, clf_pred)\n",
        "print('Confusion Matrix RF: \\n',cm)\n",
        "cm_percent = (100 * (cm/np.sum(cm)))\n",
        "\n",
        "print(cm_percent)"
      ],
      "metadata": {
        "id": "1QgqYlU9Zgrv"
      },
      "execution_count": null,
      "outputs": []
    },
    {
      "cell_type": "code",
      "source": [
        "%%time\n",
        "cName = 'SVM'\n",
        "exp_name = f'/content/drive/MyDrive/PIXELS_python/Data{cName}.tif'\n",
        "\n",
        "\n",
        "img = rio.open(satellite2)\n",
        "img_arr = img.read()\n",
        "bands = img_arr.shape[0]\n",
        "print(f'Height: {img_arr.shape[1]}\\nWidth: {img_arr.shape[2]}\\nBands: {img_arr.shape[0]}\\n')\n",
        "img_n = np.moveaxis(img_arr, 0, -1)\n",
        "img_n = img_n.reshape(-1, f_len)\n",
        "print('reshaped full data shape  for prediction: ',img_n.shape)\n",
        "metadata = img.meta\n",
        "height = metadata.get('height')\n",
        "width = metadata.get('width')\n",
        "crs = metadata.get('crs')\n",
        "transform = metadata.get('transform')"
      ],
      "metadata": {
        "id": "FaMsYPz5QbaS"
      },
      "execution_count": null,
      "outputs": []
    },
    {
      "cell_type": "code",
      "source": [
        "pred_full = clf.predict(img_n)\n",
        "\n",
        "print('Prediction Done, now exporting raster \\n')\n",
        "\n",
        "img_reshape = pred_full.reshape(height, width)\n",
        "\n",
        "\n",
        "out_raster = rio.open(exp_name,\n",
        "                                         'w',\n",
        "                                          driver='GTiff',\n",
        "                                          height=height,\n",
        "                                          width=width,\n",
        "                                          count=1, # output band number\n",
        "                                          dtype='uint8', #output data type\n",
        "                                          crs=crs,\n",
        "                                          transform = transform,\n",
        "                                          nodata = 255 #nodata\n",
        "                                          )\n",
        "\n",
        "out_raster.write(img_reshape, 1)\n",
        "out_raster.close()"
      ],
      "metadata": {
        "id": "pIBdlTlnLPV2"
      },
      "execution_count": null,
      "outputs": []
    },
    {
      "cell_type": "code",
      "source": [],
      "metadata": {
        "id": "pr-upJBolPfz"
      },
      "execution_count": null,
      "outputs": []
    }
  ]
}
